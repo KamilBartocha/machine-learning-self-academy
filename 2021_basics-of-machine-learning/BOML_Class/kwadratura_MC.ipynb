{
 "cells": [
  {
   "cell_type": "markdown",
   "metadata": {},
   "source": [
    "Zaimplementować najprostszą metodę Monte Carlo obliczania całki\n",
    "\n",
    "$$I(f)=\\int\\limits_a^b f(x) dx$$\n",
    "\n",
    "Przedstawić dwie implementację używającą modułu $\\color{green}{numpy}$ oraz wykonać testy numeryczne."
   ]
  },
  {
   "cell_type": "markdown",
   "metadata": {},
   "source": [
    "Dla ustalonego $n\\in\\mathbb{N}$ metoda ta ma postać\n",
    "\n",
    "$$MC_n(f) = \\frac{b-a}{n}\\sum\\limits_{j=1}^n f(\\xi_j), $$\n",
    "\n",
    "gdzie $\\xi_1,\\xi_2,\\ldots,\\xi_n$ są niezależnymi zmiennymi losowymi o rozkładzie jednostajnym na $[a,b]$. Wariancja empiryczna ma postać\n",
    "\n",
    "$$\\bar V_n(f) = \\frac{1}{n}\\sum\\limits_{j=1}^n\\Bigl((b-a)f(\\xi_j)-MC_n(f)\\Bigr)^2$$\n",
    "$$=\\frac{1}{n-1}\\sum\\limits_{j=1}^n((b-a)f(\\xi_j))^2-\\frac{n}{n-1}(MC_n(f))^2$$"
   ]
  },
  {
   "cell_type": "markdown",
   "metadata": {},
   "source": [
    "Empiryczne przedziały ufności na poziomie ufoności $1-\\alpha=0.95$, mają postać\n",
    "\n",
    "$$\\Bigl[MC_n(f)-2\\cdot\\sqrt{\\frac{\\bar V_n(f)}{n}}, MC_n(f)+2\\cdot\\sqrt{\\frac{\\bar V_n(f)}{n}}\\Bigr]$$"
   ]
  },
  {
   "cell_type": "code",
   "execution_count": 1,
   "metadata": {},
   "outputs": [],
   "source": [
    "import numpy as np"
   ]
  },
  {
   "cell_type": "code",
   "execution_count": 2,
   "metadata": {},
   "outputs": [],
   "source": [
    "a = 0.0\n",
    "b = np.pi"
   ]
  },
  {
   "cell_type": "code",
   "execution_count": 3,
   "metadata": {},
   "outputs": [],
   "source": [
    "N = [11, 11**2, 11**3, 11**4]"
   ]
  },
  {
   "cell_type": "code",
   "execution_count": 4,
   "metadata": {},
   "outputs": [],
   "source": [
    "I = 2.0+ (np.pi**3)/3"
   ]
  },
  {
   "cell_type": "code",
   "execution_count": 5,
   "metadata": {},
   "outputs": [
    {
     "name": "stdout",
     "output_type": "stream",
     "text": [
      "12.335425560099939\n"
     ]
    }
   ],
   "source": [
    "print(I)"
   ]
  },
  {
   "cell_type": "code",
   "execution_count": 6,
   "metadata": {},
   "outputs": [],
   "source": [
    "def quad_MC(f, a, b, n):    \n",
    "    random_samples_0 = np.random.uniform(a,b,n).astype('float32')\n",
    "    f_values = f(random_samples_0)\n",
    "    \n",
    "    avg_f = np.mean(f_values)\n",
    "    MC_f = (b-a) * avg_f\n",
    "    \n",
    "    random_samples_1 = np.power(f_values-avg_f,2)\n",
    "    Var_f = (n / (n-1)) * np.power(b-a,2) * np.mean(random_samples_1)\n",
    "    \n",
    "    L_CI = MC_f - 2.0*np.sqrt(Var_f/n)\n",
    "    R_CI = MC_f + 2.0*np.sqrt(Var_f/n)\n",
    "    \n",
    "    return MC_f, Var_f, L_CI, R_CI"
   ]
  },
  {
   "cell_type": "code",
   "execution_count": 7,
   "metadata": {},
   "outputs": [],
   "source": [
    "def f_0(x):\n",
    "    return np.sin(x)+x**2"
   ]
  },
  {
   "cell_type": "code",
   "execution_count": 8,
   "metadata": {},
   "outputs": [],
   "source": [
    "N = [11, 11**2, 11**3, 11**4, 11**5, 11**7]"
   ]
  },
  {
   "cell_type": "code",
   "execution_count": 9,
   "metadata": {},
   "outputs": [
    {
     "name": "stdout",
     "output_type": "stream",
     "text": [
      "n = 11, Quad MC= 14.1463738219, wariancja = 46.9482682100, [10.0145343368, 18.2782133071], błąd = 1.8109482618\n",
      "n = 121, Quad MC= 12.7707196253, wariancja = 70.0229684427, [11.2492700290, 14.2921692217], błąd = 0.4352940652\n",
      "n = 1331, Quad MC= 12.4941274596, wariancja = 82.9095582266, [11.9949634455, 12.9932914736], błąd = 0.1587018995\n",
      "n = 14641, Quad MC= 12.3528768908, wariancja = 82.9812821075, [12.2023081925, 12.5034455890], błąd = 0.0174513307\n",
      "n = 161051, Quad MC= 12.3578855478, wariancja = 82.2588635044, [12.3126854228, 12.4030856727], błąd = 0.0224599877\n",
      "n = 19487171, Quad MC= 12.3349964272, wariancja = 81.9390416756, [12.3308953208, 12.3390975336], błąd = 0.0004291329\n",
      "Wall time: 1.34 s\n"
     ]
    }
   ],
   "source": [
    "%%time\n",
    "for i in range(0, len(N)):\n",
    "    Q, VAR, L_CI, R_CI = quad_MC(f_0, a, b, N[i])\n",
    "    ERR = abs(I-Q)\n",
    "    print(\"n = %.i, Quad MC= %.10f, wariancja = %.10f, [%.10f, %.10f], błąd = %.10f\" % (N[i], Q, VAR, L_CI, R_CI, ERR) )"
   ]
  },
  {
   "cell_type": "markdown",
   "metadata": {},
   "source": [
    "$$2\\cdot\\int\\limits_0^1 \\frac{dx}{\\sqrt{1-x^2}}=\\pi$$\n",
    "\n",
    "Uwaga: całka z funkcji z osobliwością w $x=1$, deterministyczne kwadratury mogą mieć problem. Funkcja nie jest całkowalna z kwadratem!"
   ]
  },
  {
   "cell_type": "code",
   "execution_count": 10,
   "metadata": {},
   "outputs": [],
   "source": [
    "def g(x):\n",
    "    return 2.0/np.sqrt(1-np.power(x,2))"
   ]
  },
  {
   "cell_type": "code",
   "execution_count": 11,
   "metadata": {},
   "outputs": [
    {
     "data": {
      "text/plain": [
       "(3.136610984802246, 18.254666871325536, 3.121038653275613, 3.152183316328879)"
      ]
     },
     "execution_count": 11,
     "metadata": {},
     "output_type": "execute_result"
    }
   ],
   "source": [
    "quad_MC(g, 0.0, 1.0, 301111)"
   ]
  },
  {
   "cell_type": "code",
   "execution_count": 12,
   "metadata": {},
   "outputs": [
    {
     "name": "stdout",
     "output_type": "stream",
     "text": [
      "n = 11, Quad MC= 2.3440544605, wariancja = 0.1935975730, [2.0787261404, 2.6093827807]\n",
      "n = 121, Quad MC= 2.9901916981, wariancja = 2.3855199516, [2.7093711794, 3.2710122167]\n",
      "n = 1331, Quad MC= 3.1433203220, wariancja = 13.4359435842, [2.9423763171, 3.3442643270]\n",
      "n = 14641, Quad MC= 3.1422746181, wariancja = 19.9058948930, [3.0685291259, 3.2160201104]\n",
      "n = 161051, Quad MC= 3.1637873650, wariancja = 19.4127277308, [3.1418294265, 3.1857453035]\n",
      "n = 19487171, Quad MC= 3.1412694454, wariancja = 29.9615741846, [3.1387895240, 3.1437493668]\n",
      "Wall time: 2.36 s\n"
     ]
    }
   ],
   "source": [
    "%%time\n",
    "for i in range(0, len(N)):\n",
    "    Q, VAR, L_CI, R_CI = quad_MC(g, 0.0, 1.0, N[i])\n",
    "    print(\"n = %.i, Quad MC= %.10f, wariancja = %.10f, [%.10f, %.10f]\" % (N[i], Q, VAR, L_CI, R_CI) )"
   ]
  },
  {
   "cell_type": "markdown",
   "metadata": {},
   "source": [
    "Zaimplementować najprostszą metodę Monte Carlo obliczania całki\n",
    "\n",
    "$$I(f)=\\int\\limits_{-\\infty}^{+\\infty} f(x)\\cdot\\frac{1}{\\sqrt{2\\pi}}\\cdot e^{-x^2/2} dx$$\n",
    "\n",
    "Przedstawić implementację używającą modułu $\\color{green}{numpy}$ oraz wykonać testy numeryczne."
   ]
  },
  {
   "cell_type": "markdown",
   "metadata": {},
   "source": [
    "Dla ustalonego $n\\in\\mathbb{N}$ metoda ta ma postać\n",
    "\n",
    "$$MC_n(f) = \\frac{1}{n}\\sum\\limits_{j=1}^n f(\\xi_j), $$\n",
    "\n",
    "gdzie $\\xi_1,\\xi_2,\\ldots,\\xi_n$ są niezależnymi zmiennymi losowymi o rozkładzie normalnym o średniej $0$ i odchyleniu standardowym $1$."
   ]
  },
  {
   "cell_type": "code",
   "execution_count": 13,
   "metadata": {},
   "outputs": [],
   "source": [
    "I2 = 0"
   ]
  },
  {
   "cell_type": "code",
   "execution_count": 14,
   "metadata": {},
   "outputs": [],
   "source": [
    "def quad_MC_2(f, n):\n",
    "    random_samples = np.random.normal(0,1,n).astype('float64')\n",
    "    f_values = f(random_samples)\n",
    "    \n",
    "    return np.mean(f_values)"
   ]
  },
  {
   "cell_type": "code",
   "execution_count": 15,
   "metadata": {},
   "outputs": [],
   "source": [
    "def f_1(x):\n",
    "    return np.sin(x)"
   ]
  },
  {
   "cell_type": "code",
   "execution_count": 16,
   "metadata": {},
   "outputs": [],
   "source": [
    "N = [11, 11**2, 11**3, 11**4, 11**6, 11**8]"
   ]
  },
  {
   "cell_type": "code",
   "execution_count": 17,
   "metadata": {},
   "outputs": [
    {
     "name": "stdout",
     "output_type": "stream",
     "text": [
      "n = 11, wartość kwadratury Monte Carlo= 0.2176066369, błąd = 0.2176066369\n",
      "n = 121, wartość kwadratury Monte Carlo= -0.0437826567, błąd = 0.0437826567\n",
      "n = 1331, wartość kwadratury Monte Carlo= -0.0145050058, błąd = 0.0145050058\n",
      "n = 14641, wartość kwadratury Monte Carlo= -0.0119377090, błąd = 0.0119377090\n",
      "n = 1771561, wartość kwadratury Monte Carlo= -0.0005105372, błąd = 0.0005105372\n",
      "n = 214358881, wartość kwadratury Monte Carlo= 0.0000233288, błąd = 0.0000233288\n",
      "Wall time: 23.4 s\n"
     ]
    }
   ],
   "source": [
    "%%time\n",
    "for i in range(0, len(N)):\n",
    "    Q = quad_MC_2(f_1, N[i])\n",
    "    ERR = abs(I2-Q)\n",
    "    print(\"n = %.i, wartość kwadratury Monte Carlo= %.10f, błąd = %.10f\" % (N[i], Q, ERR) )"
   ]
  },
  {
   "cell_type": "code",
   "execution_count": 18,
   "metadata": {},
   "outputs": [],
   "source": [
    "def f_2(x):\n",
    "    return (1/(x**2+1))*np.sqrt(np.pi * 2) * np.exp((x**2)/2)"
   ]
  },
  {
   "cell_type": "code",
   "execution_count": 19,
   "metadata": {},
   "outputs": [
    {
     "name": "stdout",
     "output_type": "stream",
     "text": [
      "n = 11, wartość kwadratury Monte Carlo= 2.2768324055, błąd = 0.8647602481\n",
      "n = 121, wartość kwadratury Monte Carlo= 2.3184775209, błąd = 0.8231151327\n",
      "n = 1331, wartość kwadratury Monte Carlo= 2.5912418317, błąd = 0.5503508218\n",
      "n = 14641, wartość kwadratury Monte Carlo= 2.7005665347, błąd = 0.4410261189\n",
      "n = 1771561, wartość kwadratury Monte Carlo= 2.7271057162, błąd = 0.4144869374\n",
      "n = 214358881, wartość kwadratury Monte Carlo= 2.8216522272, błąd = 0.3199404264\n",
      "Wall time: 38.5 s\n"
     ]
    }
   ],
   "source": [
    "%%time\n",
    "for i in range(0, len(N)):\n",
    "    Q = quad_MC_2(f_2, N[i])\n",
    "    ERR = abs(np.pi-Q)\n",
    "    print(\"n = %.i, wartość kwadratury Monte Carlo= %.10f, błąd = %.10f\" % (N[i], Q, ERR) )"
   ]
  },
  {
   "cell_type": "markdown",
   "metadata": {},
   "source": [
    "Symulacja CDF rozkładu normalnego $N(0,1)$, tj.\n",
    "\n",
    "$$\\Phi(t)=\\int\\limits_{-\\infty}^t \\frac{1}{\\sqrt{2\\pi}}e^{-x^2/2}dx$$"
   ]
  },
  {
   "cell_type": "code",
   "execution_count": 20,
   "metadata": {},
   "outputs": [],
   "source": [
    "def indicator(t, x):\n",
    "    return float(x<=t)"
   ]
  },
  {
   "cell_type": "code",
   "execution_count": 21,
   "metadata": {},
   "outputs": [],
   "source": [
    "def CDF_Normal(t, n):\n",
    "    random_sample = np.random.normal(0,1,n)\n",
    "    \n",
    "    random_binary = np.where(random_sample <= t, 1.0, 0.0)\n",
    "    \n",
    "    return np.mean(random_binary)"
   ]
  },
  {
   "cell_type": "code",
   "execution_count": 22,
   "metadata": {},
   "outputs": [
    {
     "data": {
      "text/plain": [
       "0.5001726"
      ]
     },
     "execution_count": 22,
     "metadata": {},
     "output_type": "execute_result"
    }
   ],
   "source": [
    "CDF_Normal(0.0, 10**7)"
   ]
  },
  {
   "cell_type": "markdown",
   "metadata": {},
   "source": [
    "Numerycznie sprawdzić następującą własność dystrybuanty $\\Phi$ rozkładu normalnego $N(0,1)$:\n",
    "\n",
    "$$\\Phi(x)+\\Phi(-x)=1, \\quad\\forall_{x\\in\\mathbb{R}}$$"
   ]
  },
  {
   "cell_type": "code",
   "execution_count": 23,
   "metadata": {},
   "outputs": [
    {
     "data": {
      "text/plain": [
       "0.9997216"
      ]
     },
     "execution_count": 23,
     "metadata": {},
     "output_type": "execute_result"
    }
   ],
   "source": [
    "CDF_Normal(0.23, 10**7)+CDF_Normal(-0.23, 10**7)"
   ]
  },
  {
   "cell_type": "code",
   "execution_count": 24,
   "metadata": {},
   "outputs": [
    {
     "name": "stdout",
     "output_type": "stream",
     "text": [
      "-9.239999999999249e-05\n"
     ]
    }
   ],
   "source": [
    "print(1.0-abs(CDF_Normal(0.23, 10**7)+CDF_Normal(-0.23, 10**7)))"
   ]
  },
  {
   "cell_type": "markdown",
   "metadata": {},
   "source": [
    "Porównanie z implementacjami biblioteki SciPy"
   ]
  },
  {
   "cell_type": "code",
   "execution_count": 25,
   "metadata": {},
   "outputs": [],
   "source": [
    "import scipy.stats as sc_stats"
   ]
  },
  {
   "cell_type": "code",
   "execution_count": 26,
   "metadata": {},
   "outputs": [],
   "source": [
    "dist = sc_stats.norm(0,1)"
   ]
  },
  {
   "cell_type": "code",
   "execution_count": 27,
   "metadata": {},
   "outputs": [
    {
     "name": "stdout",
     "output_type": "stream",
     "text": [
      "0.5\n"
     ]
    }
   ],
   "source": [
    "cdf = dist.cdf(0.0)\n",
    "print(cdf)"
   ]
  },
  {
   "cell_type": "code",
   "execution_count": 28,
   "metadata": {},
   "outputs": [
    {
     "name": "stdout",
     "output_type": "stream",
     "text": [
      "1.00000000000000000\n"
     ]
    }
   ],
   "source": [
    "print('%.17f' % float(dist.cdf(0.23)+dist.cdf(-0.23)))"
   ]
  },
  {
   "cell_type": "markdown",
   "metadata": {},
   "source": [
    "Dla dowolnego $K\\geq 0$ zaimplementować metodę Monte Carlo obliczania całki\n",
    "\n",
    "$$I(f)=\\int\\limits_{-\\infty}^{+\\infty} (x-K)^{+}\\cdot\\frac{1}{\\sqrt{2\\pi}}\\cdot e^{-x^2/2} dx$$"
   ]
  },
  {
   "cell_type": "code",
   "execution_count": 29,
   "metadata": {},
   "outputs": [],
   "source": [
    "def call_option(K, n):\n",
    "    random_sample_0 = np.random.normal(0,1,n)\n",
    "    \n",
    "    random_sample_1 = np.where(random_sample_0 >= K, random_sample_0-K, 0.0)\n",
    "    \n",
    "    return np.mean(random_sample_1)"
   ]
  },
  {
   "cell_type": "code",
   "execution_count": 30,
   "metadata": {},
   "outputs": [
    {
     "data": {
      "text/plain": [
       "0.00037658022337239534"
      ]
     },
     "execution_count": 30,
     "metadata": {},
     "output_type": "execute_result"
    }
   ],
   "source": [
    "call_option(3, 10**7)"
   ]
  }
 ],
 "metadata": {
  "kernelspec": {
   "display_name": "Python 3",
   "language": "python",
   "name": "python3"
  },
  "language_info": {
   "codemirror_mode": {
    "name": "ipython",
    "version": 3
   },
   "file_extension": ".py",
   "mimetype": "text/x-python",
   "name": "python",
   "nbconvert_exporter": "python",
   "pygments_lexer": "ipython3",
   "version": "3.7.9"
  }
 },
 "nbformat": 4,
 "nbformat_minor": 2
}
