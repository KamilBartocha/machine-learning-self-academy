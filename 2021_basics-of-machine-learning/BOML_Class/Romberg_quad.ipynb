{
 "cells": [
  {
   "cell_type": "code",
   "execution_count": 1,
   "metadata": {},
   "outputs": [],
   "source": [
    "from scipy import integrate\n",
    "import numpy as np"
   ]
  },
  {
   "cell_type": "code",
   "execution_count": 2,
   "metadata": {},
   "outputs": [],
   "source": [
    "def f(x):\n",
    "    return np.sin(x)"
   ]
  },
  {
   "cell_type": "code",
   "execution_count": 3,
   "metadata": {},
   "outputs": [],
   "source": [
    "a = 0.0\n",
    "b = np.pi\n",
    "I = 2.0"
   ]
  },
  {
   "cell_type": "code",
   "execution_count": 4,
   "metadata": {},
   "outputs": [
    {
     "name": "stdout",
     "output_type": "stream",
     "text": [
      "Romberg integration of <function vectorize1.<locals>.vfunc at 0x00000224BA36B828> from [0.0, 3.141592653589793]\n",
      "\n",
      " Steps  StepSize   Results\n",
      "     1  3.141593  0.000000 \n",
      "     2  1.570796  1.570796  2.094395 \n",
      "     4  0.785398  1.896119  2.004560  1.998571 \n",
      "     8  0.392699  1.974232  2.000269  1.999983  2.000006 \n",
      "    16  0.196350  1.993570  2.000017  2.000000  2.000000  2.000000 \n",
      "    32  0.098175  1.998393  2.000001  2.000000  2.000000  2.000000  2.000000 \n",
      "\n",
      "The final result is 2.000000000001321 after 33 function evaluations.\n"
     ]
    }
   ],
   "source": [
    "Q = integrate.romberg(f, a, b, show=True)"
   ]
  },
  {
   "cell_type": "code",
   "execution_count": 5,
   "metadata": {},
   "outputs": [
    {
     "name": "stdout",
     "output_type": "stream",
     "text": [
      "1.3211653993039363e-12\n"
     ]
    }
   ],
   "source": [
    "print(np.abs(Q-I))"
   ]
  },
  {
   "cell_type": "code",
   "execution_count": 6,
   "metadata": {},
   "outputs": [],
   "source": [
    "def g(x):\n",
    "    return np.exp(-x**2)"
   ]
  },
  {
   "cell_type": "code",
   "execution_count": 7,
   "metadata": {},
   "outputs": [
    {
     "name": "stdout",
     "output_type": "stream",
     "text": [
      "Romberg integration of <function vectorize1.<locals>.vfunc at 0x00000224BC142F78> from [-10, 10]\n",
      "\n",
      " Steps  StepSize   Results\n",
      "     1 20.000000  0.000000 \n",
      "     2 10.000000 10.000000 13.333333 \n",
      "     4  5.000000  5.000000  3.333333  2.666667 \n",
      "     8  2.500000  2.509652  1.679536  1.569283  1.551864 \n",
      "    16  1.250000  1.778857  1.535258  1.525639  1.524947  1.524841 \n",
      "    32  0.625000  1.772454  1.770320  1.785990  1.790123  1.791163  1.791423 \n",
      "    64  0.312500  1.772454  1.772454  1.772596  1.772384  1.772314  1.772296  1.772291 \n",
      "   128  0.156250  1.772454  1.772454  1.772454  1.772452  1.772452  1.772452  1.772452  1.772452 \n",
      "   256  0.078125  1.772454  1.772454  1.772454  1.772454  1.772454  1.772454  1.772454  1.772454  1.772454 \n",
      "   512  0.039062  1.772454  1.772454  1.772454  1.772454  1.772454  1.772454  1.772454  1.772454  1.772454  1.772454 \n",
      "\n",
      "The final result is 1.7724538508933103 after 513 function evaluations.\n"
     ]
    }
   ],
   "source": [
    "Q2 = integrate.romberg(g, -10, 10, show=True)"
   ]
  },
  {
   "cell_type": "code",
   "execution_count": null,
   "metadata": {},
   "outputs": [],
   "source": []
  }
 ],
 "metadata": {
  "kernelspec": {
   "display_name": "Python 3",
   "language": "python",
   "name": "python3"
  },
  "language_info": {
   "codemirror_mode": {
    "name": "ipython",
    "version": 3
   },
   "file_extension": ".py",
   "mimetype": "text/x-python",
   "name": "python",
   "nbconvert_exporter": "python",
   "pygments_lexer": "ipython3",
   "version": "3.7.9"
  }
 },
 "nbformat": 4,
 "nbformat_minor": 2
}
